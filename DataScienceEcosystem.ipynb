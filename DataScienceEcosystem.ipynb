{
 "cells": [
  {
   "cell_type": "markdown",
   "id": "a779f6c9-bfc4-47b3-9a27-e96cd383f0ed",
   "metadata": {},
   "source": [
    "# Data Science Tools and Ecosystem"
   ]
  },
  {
   "cell_type": "markdown",
   "id": "b189f7c2-8a54-4e2b-9ecc-d74cfbb23ff7",
   "metadata": {},
   "source": [
    "In this notebook, an overview of Data Science Tools and Ecosystem is provided, highlighting key tools, libraries, and environments used in the field of data science."
   ]
  },
  {
   "cell_type": "markdown",
   "id": "94b18e5f-2f21-4a28-b2e6-2eb17d43425c",
   "metadata": {},
   "source": [
    "### **Objectives:**\n",
    "\n",
    "- List popular languages for Data Science.\n",
    "- Explore commonly used libraries in Data Science.\n",
    "- Demonstrate arithmetic expressions in Python.\n",
    "- Convert minutes to hours using Python.\n",
    "- Summarize Data Science tools and environments."
   ]
  },
  {
   "cell_type": "markdown",
   "id": "9f2d4e3f-a998-451f-8738-1180e98b9f91",
   "metadata": {},
   "source": [
    "### Some of the popular languages that Data Scientists use are:\n",
    "\n",
    "1. Python  \n",
    "2. R  \n",
    "3. SQL  \n",
    "4. Julia"
   ]
  },
  {
   "cell_type": "markdown",
   "id": "ab902e45-9e44-49cf-b04a-95695e79cd8e",
   "metadata": {},
   "source": [
    "### Some of the commonly used libraries used by Data Scientists include:\n",
    "\n",
    "1. Pandas  \n",
    "2. NumPy  \n",
    "3. Matplotlib  \n",
    "4. Scikit-learn  \n",
    "5. TensorFlow  \n",
    "6. Keras  \n",
    "7. ggplot2 (for R)  \n",
    "8. dplyr (for R)  \n",
    "9. Caret (for R)  \n",
    "10. PyTorch"
   ]
  },
  {
   "cell_type": "markdown",
   "id": "b782720a-291b-469a-aec7-8f20d91b82c7",
   "metadata": {},
   "source": [
    "### Data Science Tools\n",
    "\n",
    "| Data Science Tools       |\n",
    "|--------------------------|\n",
    "| Jupyter Notebook         |\n",
    "| RStudio                  |\n",
    "| Apache Zeppelin          |\n",
    "| Spyder                   |\n",
    "| Visual Studio Code (VS Code) |"
   ]
  },
  {
   "cell_type": "markdown",
   "id": "7649fe85-4aa4-40ad-9994-0c20fa575a0e",
   "metadata": {},
   "source": [
    "### Below are a few examples of evaluating arithmetic expressions in Python."
   ]
  },
  {
   "cell_type": "code",
   "execution_count": 2,
   "id": "1f26a3de-eb79-4973-9c6b-5fcecfeaf82e",
   "metadata": {},
   "outputs": [
    {
     "data": {
      "text/plain": [
       "17"
      ]
     },
     "execution_count": 2,
     "metadata": {},
     "output_type": "execute_result"
    }
   ],
   "source": [
    "# This is a simple arithmetic expression to multiply then add integers.\n",
    "(3 * 4) + 5"
   ]
  },
  {
   "cell_type": "code",
   "execution_count": 3,
   "id": "495a0b84-b0e0-4290-b8c4-012a1c609fb7",
   "metadata": {},
   "outputs": [
    {
     "data": {
      "text/plain": [
       "3.3333333333333335"
      ]
     },
     "execution_count": 3,
     "metadata": {},
     "output_type": "execute_result"
    }
   ],
   "source": [
    "# This will convert 200 minutes to hours by dividing by 60.\n",
    "200 / 60"
   ]
  },
  {
   "cell_type": "markdown",
   "id": "b9ace19f-cff5-4eb0-9de3-28197ebb45e8",
   "metadata": {},
   "source": [
    "## Author\n",
    "\n",
    "Etienne Tovimafa"
   ]
  },
  {
   "cell_type": "code",
   "execution_count": null,
   "id": "250e5cce-d470-4abb-a14f-eb68fbfc8e54",
   "metadata": {},
   "outputs": [],
   "source": []
  }
 ],
 "metadata": {
  "kernelspec": {
   "display_name": "Python 3 (ipykernel)",
   "language": "python",
   "name": "python3"
  },
  "language_info": {
   "codemirror_mode": {
    "name": "ipython",
    "version": 3
   },
   "file_extension": ".py",
   "mimetype": "text/x-python",
   "name": "python",
   "nbconvert_exporter": "python",
   "pygments_lexer": "ipython3",
   "version": "3.11.9"
  }
 },
 "nbformat": 4,
 "nbformat_minor": 5
}
